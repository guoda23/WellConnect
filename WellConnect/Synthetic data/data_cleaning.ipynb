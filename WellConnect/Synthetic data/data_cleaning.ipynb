{
 "cells": [
  {
   "cell_type": "code",
   "execution_count": 1,
   "id": "a72d7851",
   "metadata": {},
   "outputs": [],
   "source": [
    "import pandas\n",
    "import random\n",
    "import json\n",
    "from collections import Counter"
   ]
  },
  {
   "cell_type": "markdown",
   "id": "78106688",
   "metadata": {},
   "source": [
    "# Extract relevant data from SNN11 dataset"
   ]
  },
  {
   "cell_type": "code",
   "execution_count": 2,
   "id": "71e85099",
   "metadata": {},
   "outputs": [],
   "source": [
    "demographic_data_nl = pandas.read_csv(\"ESS11-NL-subset/ESS11-subset.csv\")\n",
    "# df_noord_holland_urban = demographic_data_nl[(demographic_data_nl['region'] == 'NL33') & (demographic_data_nl['domicil'] == 1) | (demographic_data_nl['domicil'] == 2)] #urban areas in Noord Holland\n",
    "df_NL_urban = demographic_data_nl[(demographic_data_nl['domicil'] == 1) | (demographic_data_nl['domicil'] == 2)] #Urban (and suburban/urban-adjacent) areas in the netherlands\n",
    "\n",
    "pandas.set_option('display.max_columns', None)\n"
   ]
  },
  {
   "cell_type": "code",
   "execution_count": 3,
   "id": "9ab2044f",
   "metadata": {},
   "outputs": [],
   "source": [
    "chosen_cols = ['idno', #id\n",
    "               'agea', #age\n",
    "                'gndr', #sex\n",
    "                'nobingnd', #gender\n",
    "                'cntbrthd', 'brncntr', 'ctzcntr', 'facntr', 'fbrncntc', 'mocntr', 'mbrncntc', 'feethngr', 'anctrya1', 'anctrya2',#ethnicity and nationality\n",
    "                'rlgblg', 'rlgdnanl', #religion; NB: replace with 'rlgblg' for generalized religion\n",
    "                'edlvenl', #education; NB: replace with 'edulvlb' for generalized education\n",
    "                'mainact', #employment/main activity\n",
    "                'fltdpr', 'flteeff', 'slprl', 'wrhpp', 'fltlnl', 'enjlf', 'fltsd', 'cldgng', #well-being: proxies for depreeesion (PHQ-9)\n",
    "                ]\n",
    "\n",
    "rename_dict = {\n",
    "    'idno': 'ParticipantID',\n",
    "    'agea': 'Age',\n",
    "    'gndr': 'SexAtBirth',\n",
    "    'nobingnd': 'GenderIdentitySelfReported',\n",
    "    'cntbrthd': 'CountryOfBirth', 'brncntr': 'BornInNL', 'ctzcntr': 'CitizenOfNL', 'facntr':'FatherBornInNL', 'fbrncntc': 'FatherCountryOfBirth', 'mocntr':'MotherBornInNL', 'mbrncntc': 'MotherCountryOfBirth', 'anctrya1':'ancestry1', 'anctrya2':'ancestry2',#nationality\n",
    "    'feethngr': 'FeelsSameEthnicGroup',\n",
    "    'rlgblg': 'ReligiousBelonging',\n",
    "    'rlgdnanl': 'ReligiousDenominationNL',\n",
    "    'edlvenl': 'EducationLevelNL',\n",
    "    'mainact': 'WorkStatus',\n",
    "    'fltdpr': 'FeltDepressed',\n",
    "    'flteeff': 'LowEnergy',\n",
    "    'slprl': 'SleepProblems',\n",
    "    'wrhpp': 'FeltHappy',\n",
    "    'fltlnl': 'FeltLonely',\n",
    "    'enjlf': 'EnjoyedLife',\n",
    "    'fltsd': 'FeltSad',\n",
    "    'cldgng': 'TroubleGettingGoing'\n",
    "}\n"
   ]
  },
  {
   "cell_type": "code",
   "execution_count": 4,
   "id": "9a40c2ed",
   "metadata": {},
   "outputs": [
    {
     "name": "stdout",
     "output_type": "stream",
     "text": [
      "47\n"
     ]
    }
   ],
   "source": [
    "df = df_NL_urban[chosen_cols]\n",
    "df = df.rename(columns=rename_dict)\n",
    "\n",
    "# print(df.head())\n",
    "\n",
    "# Filter rows where CountryOfBirth and Nationality differ\n",
    "diff_nat_birth = df[(df['BornInNL'] == 2) & (df['CitizenOfNL'] == 1)]\n",
    "print(len(diff_nat_birth))\n"
   ]
  },
  {
   "cell_type": "markdown",
   "id": "bfb60099",
   "metadata": {},
   "source": [
    "# Translate the dataset into our cohort questionnaire data structure"
   ]
  },
  {
   "cell_type": "markdown",
   "id": "3779a9de",
   "metadata": {},
   "source": [
    "Categorize age"
   ]
  },
  {
   "cell_type": "code",
   "execution_count": 5,
   "id": "d8808e52",
   "metadata": {},
   "outputs": [],
   "source": [
    "def translate_age(age):\n",
    "    if age < 18:\n",
    "        return 'Onder de 18 jaar'\n",
    "    elif 18 <= age <= 24:\n",
    "        return '18-24 jaar'\n",
    "    elif 25 <= age <= 34:\n",
    "        return '25-34 jaar'\n",
    "    elif 35 <= age <= 44:\n",
    "        return '35-44 jaar'\n",
    "    elif 45 <= age <= 54:\n",
    "        return '45-54 jaar'\n",
    "    elif 55 <= age <= 64:\n",
    "        return '55-64 jaar'\n",
    "    else:\n",
    "        return '65 jaar of ouder'\n",
    "\n",
    "df['AgeGroup'] = df['Age'].apply(translate_age)"
   ]
  },
  {
   "cell_type": "markdown",
   "id": "63797e65",
   "metadata": {},
   "source": [
    "Categorize sex"
   ]
  },
  {
   "cell_type": "code",
   "execution_count": 6,
   "id": "232e1617",
   "metadata": {},
   "outputs": [],
   "source": [
    "df['SexAtBirth'] = df['SexAtBirth'].map({1: 'Man', 2: 'Vrouw'})"
   ]
  },
  {
   "cell_type": "markdown",
   "id": "b5c9c4f9",
   "metadata": {},
   "source": [
    "Categorize gender identity"
   ]
  },
  {
   "cell_type": "code",
   "execution_count": 7,
   "id": "72790381",
   "metadata": {},
   "outputs": [],
   "source": [
    "def translate_gender_identity(row): #TODO: check if this corresponds to the questionnaire\n",
    "    if row['GenderIdentitySelfReported'] == 1 and row['SexAtBirth'] == 'Man':\n",
    "        return 'Man'\n",
    "    elif row['GenderIdentitySelfReported'] == 2 and row['SexAtBirth'] == 'Vrouw':\n",
    "        return 'Vrouw'\n",
    "    elif row['GenderIdentitySelfReported'] == 2 and row['SexAtBirth'] == 'Man':\n",
    "        return 'Trans vrouw'\n",
    "    elif row['GenderIdentitySelfReported'] == 1 and row['SexAtBirth'] == 'Vrouw':\n",
    "        return 'Trans man'\n",
    "    elif row['GenderIdentitySelfReported'] == 3:\n",
    "        return random.choice(['Genderqueer', 'Gender non-binair', 'Anders (specificeer)']) #if 'other' make a random choice between the three\n",
    "    else:\n",
    "        return 'Ik wil het liever niet zeggen'\n",
    "    \n",
    "df['GenderIdentity'] = df.apply(translate_gender_identity, axis=1)\n"
   ]
  },
  {
   "cell_type": "markdown",
   "id": "405e27aa",
   "metadata": {},
   "source": [
    "Education mapping"
   ]
  },
  {
   "cell_type": "code",
   "execution_count": 8,
   "id": "08a4d700",
   "metadata": {},
   "outputs": [],
   "source": [
    "education_mapping_snn11 = {\n",
    "    1: 'Basisonderwijs',\n",
    "    2: 'Basisonderwijs',\n",
    "    3: 'Vmbo/Mavo',\n",
    "    4: 'Vmbo/Mavo',\n",
    "    5: 'Mbo (niveau 1-4)',\n",
    "    6: 'Havo/Vwo',\n",
    "    7: 'Havo/Vwo',\n",
    "    8: 'Mbo (niveau 1-4)',\n",
    "    9: 'Mbo (niveau 1-4)',\n",
    "    10: 'Mbo (niveau 1-4)',\n",
    "    11: 'Mbo (niveau 1-4)',\n",
    "    12: 'HBO',\n",
    "    13: 'HBO',\n",
    "    14: 'HBO',\n",
    "    15: 'Universiteit (Bachelor, Master, of hoger)',\n",
    "    16: 'Universiteit (Bachelor, Master, of hoger)',\n",
    "    17: 'Universiteit (Bachelor, Master, of hoger)',\n",
    "    18: 'Universiteit (Bachelor, Master, of hoger)',\n",
    "    5555: 'Anders (specificeer)',\n",
    "    7777: 'Ik wil het liever niet zeggen',\n",
    "    8888: 'Ik wil het liever niet zeggen',\n",
    "    9999: 'Ik wil het liever niet zeggen'\n",
    "}\n",
    "\n",
    "df['EducationLevel'] = df['EducationLevelNL'].map(education_mapping_snn11).fillna('Anders (specificeer)')"
   ]
  },
  {
   "cell_type": "markdown",
   "id": "69694c32",
   "metadata": {},
   "source": [
    "Employment mapping"
   ]
  },
  {
   "cell_type": "code",
   "execution_count": 9,
   "id": "655a4c58",
   "metadata": {},
   "outputs": [],
   "source": [
    "work_status_mapping_snn11 = {\n",
    "    1: 'Betaalde baan (fulltime)',\n",
    "    2: 'Scholier of student',\n",
    "    3: 'Geen betaald werk om andere redenen',\n",
    "    4: 'Geen betaald werk om andere redenen',\n",
    "    5: 'Gedeeltelijk / geen betaald werk vanwege gezondheidsproblemen',\n",
    "    6: 'Gepensioneerd of met prepensioen',\n",
    "    7: 'Vrijwilligerswerk',\n",
    "    8: 'Zorg voor het huishouden (eventueel kinderen)',\n",
    "    9: 'Anders (specificeer)',\n",
    "    66: 'Ik wil het liever niet zeggen',\n",
    "    77: 'Ik wil het liever niet zeggen',\n",
    "    88: 'Ik wil het liever niet zeggen',\n",
    "    99: 'Ik wil het liever niet zeggen'\n",
    "}\n",
    "\n",
    "df['WorkStatus'] = df['WorkStatus'].map(education_mapping_snn11).fillna('Anders (specificeer)')"
   ]
  },
  {
   "cell_type": "markdown",
   "id": "b8c8fc95",
   "metadata": {},
   "source": [
    "Religious mapping"
   ]
  },
  {
   "cell_type": "code",
   "execution_count": 10,
   "id": "3ada18bb",
   "metadata": {},
   "outputs": [],
   "source": [
    "religion_mapping_snn11 = {\n",
    "    1: 'Christendom',\n",
    "    2: 'Christendom',\n",
    "    3: 'Christendom',\n",
    "    4: 'Christendom',\n",
    "    5: 'Christendom',\n",
    "    6: 'Christendom',\n",
    "    7: 'Christendom',\n",
    "    8: 'Christendom',\n",
    "    9: 'Christendom',\n",
    "    10: 'Christendom',\n",
    "    11: 'Christendom',\n",
    "    12: 'Christendom',\n",
    "    13: 'Christendom',\n",
    "    14: 'Christendom',\n",
    "    15: 'Christendom',\n",
    "    16: 'Christendom',\n",
    "    17: 'Christendom',\n",
    "    18: 'Christendom',\n",
    "    19: 'Christendom',\n",
    "    20: 'Christendom',\n",
    "    21: 'Christendom',\n",
    "    22: 'Hindoeïsme',\n",
    "    23: 'Boeddhisme',\n",
    "    24: 'Anders (specificeer)',\n",
    "    25: 'Jodendom',\n",
    "    26: 'Islam',\n",
    "    27: 'Anders (specificeer): Humanistisch Verbond',\n",
    "    28: 'Anders (specificeer): Andere niet-christelijke religies',\n",
    "    6666: 'Geen religie',\n",
    "    7777: 'Ik wil het liever niet zeggen',\n",
    "    9999: 'Ik wil het liever niet zeggen'\n",
    "}\n",
    "\n",
    "\n",
    "def map_religion(row):\n",
    "    if row['ReligiousBelonging'] in [7, 8, 9]:\n",
    "        return 'Ik wil het liever niet zeggen'\n",
    "    elif row['ReligiousBelonging'] == 2:\n",
    "        return 'Geen religie'\n",
    "    elif row['ReligiousBelonging'] == 1:\n",
    "        return religion_mapping_snn11.get(row['ReligiousDenominationNL'])\n",
    "    else: \n",
    "        return 'Anders (specificeer): ' + str(row['ReligiousDenominationNL'])\n",
    "\n",
    "\n",
    "\n",
    "df['Religion'] = df.apply(map_religion, axis=1)\n"
   ]
  },
  {
   "cell_type": "markdown",
   "id": "117aee3d",
   "metadata": {},
   "source": [
    "Ethnicity and nationality variables"
   ]
  },
  {
   "cell_type": "code",
   "execution_count": 11,
   "id": "e31164b9",
   "metadata": {},
   "outputs": [],
   "source": [
    "def check_for_unrecognized_countries(row, row_name):\n",
    "        if row[row_name] == '1000':\n",
    "            return 'DDR'\n",
    "        elif row[row_name] == '2000':\n",
    "            return 'USSR'\n",
    "        elif row[row_name] == '3000':\n",
    "            return 'Czechoslovakia'\n",
    "        elif row[row_name] == '4000':\n",
    "            return 'Yugoslavia'\n",
    "        elif row[row_name] == '5000':\n",
    "            return 'East-Timor'\n",
    "        elif row[row_name] == '6000':\n",
    "            return 'Serbia and Montenegro'\n",
    "        elif row[row_name] == '6500':\n",
    "            return 'Alien\\'s passport'\n",
    "        else:\n",
    "            return row[row_name]\n",
    "\n",
    "#country of birth\n",
    "def infer_country_of_birth(row):\n",
    "    if row['BornInNL'] == 1:\n",
    "        return 'NL'\n",
    "    else:\n",
    "        return check_for_unrecognized_countries(row, 'CountryOfBirth')\n",
    "    \n",
    "df['CountryOfBirth'] = df.apply(infer_country_of_birth, axis=1)\n",
    "\n",
    "def infer_mother_country_of_birth(row):\n",
    "    if row['MotherBornInNL'] == 1:\n",
    "        return 'NL'\n",
    "    else:\n",
    "        return check_for_unrecognized_countries(row, 'MotherCountryOfBirth')\n",
    "\n",
    "df['MotherCountryOfBirth'] = df.apply(infer_mother_country_of_birth, axis=1)\n",
    "    \n",
    "def infer_father_country_of_birth(row):\n",
    "    if row['FatherBornInNL'] == 1:\n",
    "        return 'NL'\n",
    "    else:\n",
    "        return check_for_unrecognized_countries(row, 'FatherCountryOfBirth')\n",
    "    \n",
    "df['FatherCountryOfBirth'] = df.apply(infer_father_country_of_birth, axis=1)\n",
    "\n",
    "#nationality\n",
    "def infer_nationality(row):\n",
    "    if row['CitizenOfNL'] == 1:\n",
    "        return 'NL'\n",
    "    else:\n",
    "        return check_for_unrecognized_countries(row, 'CountryOfBirth')\n",
    "    \n",
    "\n",
    "df['Nationality'] = df.apply(infer_nationality, axis=1)\n",
    "\n",
    "\n",
    "def find_dominant_country(countries):\n",
    "    counts = Counter(countries)\n",
    "    most_common = counts.most_common(1)\n",
    "    return most_common[0][0] if most_common else None\n",
    "\n",
    "\n",
    "with open('ancestry_mapping_snn11.json', 'r') as f:\n",
    "    ancestry_mapping = json.load(f)\n",
    "        \n",
    "\n",
    "df['Ethnicity'] = df['ancestry1'].map(lambda x: ancestry_mapping.get(str(x), 'Anders (specificeer)'))\n"
   ]
  },
  {
   "cell_type": "code",
   "execution_count": 12,
   "id": "3d00955a",
   "metadata": {},
   "outputs": [],
   "source": [
    "#display all rows\n",
    "# pandas.set_option('display.max_rows', None)\n",
    "\n",
    "#ethnicity check\n",
    "# df[['FeelsSameEthnicGroup', 'CountryOfBirth', 'MotherCountryOfBirth', 'FatherCountryOfBirth','Nationality', 'Ethnicity', 'Religion']] #TODO: look if data is clean. Now country of birth values are not; check religion"
   ]
  },
  {
   "cell_type": "markdown",
   "id": "113d3d82",
   "metadata": {},
   "source": [
    "Extract relevant data for the cohort"
   ]
  },
  {
   "cell_type": "code",
   "execution_count": 14,
   "id": "87e78946",
   "metadata": {},
   "outputs": [
    {
     "name": "stdout",
     "output_type": "stream",
     "text": [
      "                      Count  Percentage\n",
      "WorkStatus                             \n",
      "Anders (specificeer)    299       64.58\n",
      "Basisonderwijs          108       23.33\n",
      "Mbo (niveau 1-4)         31        6.70\n",
      "Havo/Vwo                 22        4.75\n",
      "Vmbo/Mavo                 3        0.65\n"
     ]
    }
   ],
   "source": [
    "extracted_data  = df[['ParticipantID',\n",
    "                     'AgeGroup',\n",
    "                     'SexAtBirth',\n",
    "                     'GenderIdentity',\n",
    "                     'CountryOfBirth', 'Nationality', 'MotherCountryOfBirth', 'FatherCountryOfBirth', 'Ethnicity',\n",
    "                     'Religion',\n",
    "                     'EducationLevel',\n",
    "                     'WorkStatus',\n",
    "                     'FeltDepressed', 'LowEnergy', 'SleepProblems', 'FeltHappy', 'FeltLonely', 'EnjoyedLife', 'FeltSad', 'TroubleGettingGoing',]]\n",
    "\n",
    "extracted_data\n",
    "# Breakdown of WorkStatus values\n",
    "work_summary = df['WorkStatus'].value_counts(dropna=False).to_frame(name='Count')\n",
    "work_summary['Percentage'] = (work_summary['Count'] / work_summary['Count'].sum() * 100).round(2)\n",
    "print(work_summary)\n",
    "\n",
    "                    "
   ]
  },
  {
   "cell_type": "code",
   "execution_count": null,
   "id": "8b657b78",
   "metadata": {},
   "outputs": [],
   "source": []
  }
 ],
 "metadata": {
  "kernelspec": {
   "display_name": "base",
   "language": "python",
   "name": "python3"
  },
  "language_info": {
   "codemirror_mode": {
    "name": "ipython",
    "version": 3
   },
   "file_extension": ".py",
   "mimetype": "text/x-python",
   "name": "python",
   "nbconvert_exporter": "python",
   "pygments_lexer": "ipython3",
   "version": "3.9.13"
  }
 },
 "nbformat": 4,
 "nbformat_minor": 5
}
